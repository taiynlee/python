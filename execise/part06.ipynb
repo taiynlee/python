{
 "cells": [
  {
   "cell_type": "code",
   "execution_count": null,
   "metadata": {},
   "outputs": [],
   "source": [
    "money = int(input(\"請輸入購物金額：\"))\n",
    "if(money >= 10000):\n",
    "    if(money >= 100000):\n",
    "        print(str(money * 0.8), end=\" 元\\n\")  #八折\n",
    "    elif(money >= 50000):\n",
    "        print(str(money * 0.85), end=\" 元\\n\")  #八五折\n",
    "    elif(money >= 30000):\n",
    "        print(str(money * 0.9), end=\" 元\\n\")  #九折\n",
    "    else:\n",
    "        print(str(money * 0.95), end=\" 元\\n\")  #九五折\n",
    "else:\n",
    "    print(str(money), end=\" 元\\n\")  #未打折"
   ]
  },
  {
   "cell_type": "code",
   "execution_count": null,
   "metadata": {},
   "outputs": [],
   "source": [
    "score = []\n",
    "total = inscore = 0\n",
    "while(inscore != -1):\n",
    "    inscore = int(input(\"請輸入學生的成績：\"))\n",
    "    score.append(inscore)\n",
    "print(\"共有 %d 位學生\" % (len(score) - 1))\n",
    "for i in range(0, len(score) - 1):\n",
    "    total += score[i]\n",
    "average = total / (len(score) - 1)\n",
    "print(\"本班總成績：%d 分，平均成績：%5.2f 分\" % (total, average))"
   ]
  },
  {
   "cell_type": "code",
   "execution_count": null,
   "metadata": {},
   "outputs": [],
   "source": [
    "def ctof(c):\n",
    "    f = c * 1.8 + 32\n",
    "    return f\n",
    "\n",
    "inputc = float(input(\"請輸入攝氏溫度：\"))\n",
    "print(\"華氏溫度為：%5.1f 度\" % ctof(inputc))"
   ]
  },
  {
   "cell_type": "code",
   "execution_count": null,
   "metadata": {},
   "outputs": [],
   "source": [
    "import cv2\n",
    "cv2.namedWindow(\"ShowImage1\")\n",
    "cv2.namedWindow(\"ShowImage2\")\n",
    "image1 = cv2.imread(\"media\\\\img01.jpg\")\n",
    "image2 = cv2.imread(\"media\\\\img01.jpg\", 0)\n",
    "cv2.imshow(\"ShowImage1\", image1) \n",
    "cv2.imshow(\"ShowImage2\", image2) \n",
    "cv2.waitKey(0)\n",
    "cv2.destroyAllWindows()"
   ]
  },
  {
   "cell_type": "code",
   "execution_count": null,
   "metadata": {},
   "outputs": [],
   "source": [
    "import cv2\n",
    "cv2.namedWindow(\"ShowImage\")\n",
    "image = cv2.imread(\"media\\\\img01.jpg\", 0)\n",
    "cv2.imshow(\"ShowImage\", image)\n",
    "cv2.imwrite(\"media\\\\s\\\\img01copy1.jpg\", image) \n",
    "cv2.imwrite(\"media\\\\s\\\\img01copy2.jpg\", image, [int(cv2.IMWRITE_JPEG_QUALITY), 50]) \n",
    "cv2.waitKey(0)\n",
    "cv2.destroyWindow(\"ShowImage\")"
   ]
  },
  {
   "cell_type": "code",
   "execution_count": null,
   "metadata": {},
   "outputs": [],
   "source": [
    "import cv2, numpy\n",
    "cv2.namedWindow(\"plot\")\n",
    "image = cv2.imread(\"media\\\\background.jpg\")\n",
    "cv2.line(image, (50,50), (300,300), (255,0,0), 2)\n",
    "cv2.rectangle(image, (500,20), (580,100), (0,255,0), 3)\n",
    "cv2.rectangle(image, (100,300), (150,360), (0,0,255), -1)\n",
    "cv2.circle(image, (500,300), 40, (255,255,0), -1)\n",
    "pts = numpy.array([[300,300],[300,340],[350,320]], numpy.int32)\n",
    "cv2.polylines(image, [pts], True, (0,255,255), 2)\n",
    "cv2.putText(image,\"background.jpg\", (350,420), cv2.FONT_HERSHEY_SIMPLEX, 1, (255,255,255), 2)\n",
    "cv2.imshow(\"plot\", image) \n",
    "cv2.waitKey(0)\n",
    "cv2.destroyAllWindows()"
   ]
  },
  {
   "cell_type": "code",
   "execution_count": null,
   "metadata": {},
   "outputs": [],
   "source": [
    "import cv2 \n",
    "casc_path = \"C:\\\\Users\\\\user\\\\Desktop\\\\opencv-master\\\\data\\\\haarcascades\\\\haarcascade_frontalface_default.xml\"\n",
    "faceCascade = cv2.CascadeClassifier(casc_path)\n",
    "imagename = cv2.imread(\"media\\\\person1.jpg\")\n",
    "faces = faceCascade.detectMultiScale(imagename, scaleFactor=1.1, minNeighbors=5, minSize=(30,30), flags = cv2.CASCADE_SCALE_IMAGE)\n",
    "#imagename.shape[0]:圖片高度，imagename.shape[1]:圖片寬度\n",
    "cv2.rectangle(imagename, (10,imagename.shape[0]-20), (110,imagename.shape[0]), (0,0,0), -1)\n",
    "cv2.putText(imagename,\"Find \" + str(len(faces)) + \" face!\", (10,imagename.shape[0]-5), cv2.FONT_HERSHEY_SIMPLEX, 0.5, (255,255,255), 2)\n",
    "for (x,y,w,h) in faces:\n",
    "    cv2.rectangle(imagename,(x,y),(x+w, y+h),(128,255,0),2)\n",
    "cv2.namedWindow(\"facedetect\")\n",
    "cv2.imshow(\"facedetect\", imagename)\n",
    "cv2.waitKey(0)  \n",
    "cv2.destroyWindow(\"facedetect\")"
   ]
  },
  {
   "cell_type": "code",
   "execution_count": null,
   "metadata": {},
   "outputs": [],
   "source": [
    "import cv2\n",
    "cv2.namedWindow(\"frame\")\n",
    "cap = cv2.VideoCapture(0)\n",
    "while(cap.isOpened()):\n",
    "    ret, img = cap.read()\n",
    "    if ret == True:\n",
    "        cv2.imshow(\"frame\", img)\n",
    "        k = cv2.waitKey(100)\n",
    "        if k == ord(\"z\") or k == ord(\"Z\"):\n",
    "            cv2.imwrite(\"media\\\\catch.jpg\", img)\n",
    "            break\n",
    "cap.release()\n",
    "cv2.waitKey(0)\n",
    "cv2.destroyWindow(\"frame\")"
   ]
  }
 ],
 "metadata": {
  "kernelspec": {
   "display_name": "Python 3",
   "language": "python",
   "name": "python3"
  },
  "language_info": {
   "codemirror_mode": {
    "name": "ipython",
    "version": 3
   },
   "file_extension": ".py",
   "mimetype": "text/x-python",
   "name": "python",
   "nbconvert_exporter": "python",
   "pygments_lexer": "ipython3",
   "version": "3.6.5"
  }
 },
 "nbformat": 4,
 "nbformat_minor": 2
}
