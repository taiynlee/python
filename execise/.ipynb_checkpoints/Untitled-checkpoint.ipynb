{
 "cells": [
  {
   "cell_type": "code",
   "execution_count": 1,
   "metadata": {},
   "outputs": [
    {
     "name": "stdout",
     "output_type": "stream",
     "text": [
      "123\n"
     ]
    }
   ],
   "source": [
    "x=123\n",
    "print(x)"
   ]
  },
  {
   "cell_type": "code",
   "execution_count": 3,
   "metadata": {},
   "outputs": [],
   "source": [
    "x=\"aaa\""
   ]
  },
  {
   "cell_type": "code",
   "execution_count": 4,
   "metadata": {},
   "outputs": [
    {
     "data": {
      "text/plain": [
       "'aaa'"
      ]
     },
     "execution_count": 4,
     "metadata": {},
     "output_type": "execute_result"
    }
   ],
   "source": [
    "x"
   ]
  },
  {
   "cell_type": "code",
   "execution_count": 7,
   "metadata": {},
   "outputs": [
    {
     "name": "stdout",
     "output_type": "stream",
     "text": [
      "aaa\n"
     ]
    }
   ],
   "source": [
    "print(x)"
   ]
  },
  {
   "cell_type": "code",
   "execution_count": 13,
   "metadata": {},
   "outputs": [
    {
     "name": "stdout",
     "output_type": "stream",
     "text": [
      "小明的成績 a科=70.83 B科=60.50 總合131\n"
     ]
    }
   ],
   "source": [
    "name=\"小明\"\n",
    "a=70.826\n",
    "b=60.5\n",
    "score=a+b\n",
    "print(\"%s的成績 a科=%5.2f B科=%.2f 總合%d\" % (name,a,b,score))"
   ]
  },
  {
   "cell_type": "code",
   "execution_count": 14,
   "metadata": {},
   "outputs": [
    {
     "name": "stdout",
     "output_type": "stream",
     "text": [
      "小明的成績為131.326\n"
     ]
    }
   ],
   "source": [
    "print(\"{}的成績為{}\".format(name,score))"
   ]
  },
  {
   "cell_type": "code",
   "execution_count": 1,
   "metadata": {},
   "outputs": [],
   "source": [
    "letters='abcdefghijklmnopqustuvwxyz'"
   ]
  },
  {
   "cell_type": "code",
   "execution_count": 2,
   "metadata": {},
   "outputs": [
    {
     "data": {
      "text/plain": [
       "26"
      ]
     },
     "execution_count": 2,
     "metadata": {},
     "output_type": "execute_result"
    }
   ],
   "source": [
    "len(letters)"
   ]
  },
  {
   "cell_type": "code",
   "execution_count": 4,
   "metadata": {},
   "outputs": [
    {
     "data": {
      "text/plain": [
       "'a'"
      ]
     },
     "execution_count": 4,
     "metadata": {},
     "output_type": "execute_result"
    }
   ],
   "source": [
    "letters[0]"
   ]
  },
  {
   "cell_type": "code",
   "execution_count": 5,
   "metadata": {},
   "outputs": [
    {
     "data": {
      "text/plain": [
       "'klmnopqustuvwxyz'"
      ]
     },
     "execution_count": 5,
     "metadata": {},
     "output_type": "execute_result"
    }
   ],
   "source": [
    "letters[10:]"
   ]
  },
  {
   "cell_type": "code",
   "execution_count": 6,
   "metadata": {},
   "outputs": [
    {
     "data": {
      "text/plain": [
       "'hi'"
      ]
     },
     "execution_count": 6,
     "metadata": {},
     "output_type": "execute_result"
    }
   ],
   "source": [
    "letters[7:9]"
   ]
  },
  {
   "cell_type": "code",
   "execution_count": 7,
   "metadata": {},
   "outputs": [
    {
     "data": {
      "text/plain": [
       "'bcd'"
      ]
     },
     "execution_count": 7,
     "metadata": {},
     "output_type": "execute_result"
    }
   ],
   "source": [
    "letters[1:4]"
   ]
  },
  {
   "cell_type": "code",
   "execution_count": 8,
   "metadata": {},
   "outputs": [
    {
     "data": {
      "text/plain": [
       "'acegikmoqsuwy'"
      ]
     },
     "execution_count": 8,
     "metadata": {},
     "output_type": "execute_result"
    }
   ],
   "source": [
    "letters[::2]"
   ]
  },
  {
   "cell_type": "code",
   "execution_count": 11,
   "metadata": {},
   "outputs": [
    {
     "data": {
      "text/plain": [
       "'xyz'"
      ]
     },
     "execution_count": 11,
     "metadata": {},
     "output_type": "execute_result"
    }
   ],
   "source": [
    "letters[-3::]"
   ]
  },
  {
   "cell_type": "code",
   "execution_count": 12,
   "metadata": {},
   "outputs": [
    {
     "data": {
      "text/plain": [
       "'stuvw'"
      ]
     },
     "execution_count": 12,
     "metadata": {},
     "output_type": "execute_result"
    }
   ],
   "source": [
    "letters[18:-3]"
   ]
  },
  {
   "cell_type": "code",
   "execution_count": 14,
   "metadata": {},
   "outputs": [],
   "source": [
    "todos='get a, get b,get c,get d,get e'\n",
    "todos1=todos.split(\",\")"
   ]
  },
  {
   "cell_type": "code",
   "execution_count": 15,
   "metadata": {},
   "outputs": [
    {
     "data": {
      "text/plain": [
       "['get a', ' get b', 'get c', 'get d', 'get e']"
      ]
     },
     "execution_count": 15,
     "metadata": {},
     "output_type": "execute_result"
    }
   ],
   "source": [
    "todos1"
   ]
  },
  {
   "cell_type": "code",
   "execution_count": 18,
   "metadata": {},
   "outputs": [
    {
     "data": {
      "text/plain": [
       "list"
      ]
     },
     "execution_count": 18,
     "metadata": {},
     "output_type": "execute_result"
    }
   ],
   "source": [
    "type(todos1)"
   ]
  },
  {
   "cell_type": "code",
   "execution_count": 19,
   "metadata": {},
   "outputs": [
    {
     "data": {
      "text/plain": [
       "('get a', ' get b', 'get c', 'get d', 'get e')"
      ]
     },
     "execution_count": 19,
     "metadata": {},
     "output_type": "execute_result"
    }
   ],
   "source": [
    "tuple(todos1)"
   ]
  },
  {
   "cell_type": "code",
   "execution_count": 23,
   "metadata": {},
   "outputs": [],
   "source": [
    "y=\"\".join(todos1)"
   ]
  },
  {
   "cell_type": "code",
   "execution_count": 24,
   "metadata": {},
   "outputs": [
    {
     "data": {
      "text/plain": [
       "'get a get bget cget dget e'"
      ]
     },
     "execution_count": 24,
     "metadata": {},
     "output_type": "execute_result"
    }
   ],
   "source": [
    "y"
   ]
  },
  {
   "cell_type": "code",
   "execution_count": 25,
   "metadata": {},
   "outputs": [
    {
     "data": {
      "text/plain": [
       "['get a', ' get b', 'get c', 'get d', 'get e']"
      ]
     },
     "execution_count": 25,
     "metadata": {},
     "output_type": "execute_result"
    }
   ],
   "source": [
    "list(todos1)"
   ]
  },
  {
   "cell_type": "code",
   "execution_count": 26,
   "metadata": {},
   "outputs": [
    {
     "data": {
      "text/plain": [
       "list"
      ]
     },
     "execution_count": 26,
     "metadata": {},
     "output_type": "execute_result"
    }
   ],
   "source": [
    "type(todos1)"
   ]
  },
  {
   "cell_type": "code",
   "execution_count": 27,
   "metadata": {},
   "outputs": [],
   "source": [
    "s=\"-\".join(todos1)"
   ]
  },
  {
   "cell_type": "code",
   "execution_count": 29,
   "metadata": {},
   "outputs": [
    {
     "data": {
      "text/plain": [
       "'get a- get b-get c-get d-get e'"
      ]
     },
     "execution_count": 29,
     "metadata": {},
     "output_type": "execute_result"
    }
   ],
   "source": [
    "s"
   ]
  },
  {
   "cell_type": "code",
   "execution_count": 31,
   "metadata": {},
   "outputs": [
    {
     "name": "stdout",
     "output_type": "stream",
     "text": [
      "2\n",
      "3\n",
      "6\n",
      "['banana', 'apple', 'kiwi', 'banana', 'pear', 'apple', 'orange']\n",
      "['banana', 'apple', 'kiwi', 'banana', 'pear', 'apple', 'orange', 'grape']\n",
      "['apple', 'apple', 'banana', 'banana', 'grape', 'kiwi', 'orange', 'pear']\n",
      "['apple', 'apple', 'banana', 'banana', 'grape', 'kiwi', 'orange', 'pear', 'berry', 'apple']\n",
      "['apple', 'berry', 'apple', 'banana', 'banana', 'grape', 'kiwi', 'orange', 'pear', 'berry', 'apple']\n",
      "['apple', 'apple', 'banana', 'banana', 'grape', 'kiwi', 'orange', 'pear', 'berry', 'apple']\n",
      "apple\n",
      "[3, 4, 5, 6, 7]\n",
      "7\n",
      "6\n",
      "[3, 4, 5]\n",
      "阿呆\n",
      "ERIC\n",
      "GRAHAM\n",
      "deque(['JOHN', 'MICHAEL', '小寶', '小文', 'TERRY'])\n"
     ]
    }
   ],
   "source": [
    "fruits=[\"orange\",\"apple\",\"pear\",\"banana\",\"kiwi\",\"apple\",\"banana\"]\n",
    "#計算元數出現的個數\n",
    "print(fruits.count(\"apple\"))\n",
    "#回傳元素在list最小的索引值\n",
    "print(fruits.index(\"banana\"))\n",
    "print(fruits.index(\"banana\",4))\n",
    "#倒轉順序\n",
    "fruits.reverse()\n",
    "print(fruits)\n",
    "#把元素加到list最後\n",
    "fruits.append(\"grape\")\n",
    "print(fruits)\n",
    "#排序\n",
    "fruits.sort()\n",
    "print(fruits)\n",
    "#list相加\n",
    "fruits.extend([\"berry\",\"apple\"])\n",
    "print(fruits)\n",
    "#將元素插入list索引值i的地方\n",
    "fruits.insert(1,\"berry\")\n",
    "print(fruits)\n",
    "#移除list中第1個元素\n",
    "fruits.remove(\"berry\")\n",
    "print(fruits)\n",
    "'''\n",
    "因為串列屬於堆疊，先進後出，所以pop會取出最後一個元素\n",
    "'''\n",
    "print(fruits.pop())\n",
    "stack=[3,4,5]\n",
    "stack.append(6)\n",
    "stack.append(7)\n",
    "print(stack)\n",
    "print(stack.pop())\n",
    "print(stack.pop())\n",
    "print(stack)\n",
    "'''\n",
    "佇列部份我們使用collections裏的deque\n",
    "'''\n",
    "from collections import deque\n",
    "queue=deque([\"阿呆\",\"ERIC\",\"JOHN\",\"MICHAEL\",\"小寶\",\"小文\"])\n",
    "queue.append(\"TERRY\")\n",
    "queue.append(\"GRAHAM\")\n",
    "print(queue.popleft())\n",
    "print(queue.popleft())\n",
    "print(queue.pop())\n",
    "print(queue)"
   ]
  },
  {
   "cell_type": "code",
   "execution_count": 32,
   "metadata": {},
   "outputs": [],
   "source": [
    "aa=['a1','a2']\n",
    "bb=['b1','b2','b3','b4']\n",
    "cc=[3,'c1',5]\n",
    "allN=[aa,bb,'apple',cc]"
   ]
  },
  {
   "cell_type": "code",
   "execution_count": 33,
   "metadata": {},
   "outputs": [
    {
     "data": {
      "text/plain": [
       "[['a1', 'a2'], ['b1', 'b2', 'b3', 'b4'], 'apple', [3, 'c1', 5]]"
      ]
     },
     "execution_count": 33,
     "metadata": {},
     "output_type": "execute_result"
    }
   ],
   "source": [
    "allN"
   ]
  },
  {
   "cell_type": "code",
   "execution_count": 36,
   "metadata": {},
   "outputs": [
    {
     "data": {
      "text/plain": [
       "'b3'"
      ]
     },
     "execution_count": 36,
     "metadata": {},
     "output_type": "execute_result"
    }
   ],
   "source": [
    "allN[1][2]"
   ]
  },
  {
   "cell_type": "code",
   "execution_count": 37,
   "metadata": {},
   "outputs": [],
   "source": [
    "allN.append(\"bb100\")"
   ]
  },
  {
   "cell_type": "code",
   "execution_count": 38,
   "metadata": {},
   "outputs": [
    {
     "data": {
      "text/plain": [
       "[['a1', 'a2'], ['b1', 'b2', 'b3', 'b4'], 'apple', [3, 'c1', 5], 'bb100']"
      ]
     },
     "execution_count": 38,
     "metadata": {},
     "output_type": "execute_result"
    }
   ],
   "source": [
    "allN"
   ]
  },
  {
   "cell_type": "code",
   "execution_count": 39,
   "metadata": {},
   "outputs": [],
   "source": [
    "allN.extend(fruits)"
   ]
  },
  {
   "cell_type": "code",
   "execution_count": 40,
   "metadata": {},
   "outputs": [
    {
     "data": {
      "text/plain": [
       "[['a1', 'a2'],\n",
       " ['b1', 'b2', 'b3', 'b4'],\n",
       " 'apple',\n",
       " [3, 'c1', 5],\n",
       " 'bb100',\n",
       " 'apple',\n",
       " 'apple',\n",
       " 'banana',\n",
       " 'banana',\n",
       " 'grape',\n",
       " 'kiwi',\n",
       " 'orange',\n",
       " 'pear',\n",
       " 'berry']"
      ]
     },
     "execution_count": 40,
     "metadata": {},
     "output_type": "execute_result"
    }
   ],
   "source": [
    "allN"
   ]
  },
  {
   "cell_type": "code",
   "execution_count": 41,
   "metadata": {},
   "outputs": [
    {
     "data": {
      "text/plain": [
       "'berry'"
      ]
     },
     "execution_count": 41,
     "metadata": {},
     "output_type": "execute_result"
    }
   ],
   "source": [
    "allN.pop()"
   ]
  },
  {
   "cell_type": "code",
   "execution_count": 42,
   "metadata": {},
   "outputs": [
    {
     "data": {
      "text/plain": [
       "[['a1', 'a2'],\n",
       " ['b1', 'b2', 'b3', 'b4'],\n",
       " 'apple',\n",
       " [3, 'c1', 5],\n",
       " 'bb100',\n",
       " 'apple',\n",
       " 'apple',\n",
       " 'banana',\n",
       " 'banana',\n",
       " 'grape',\n",
       " 'kiwi',\n",
       " 'orange',\n",
       " 'pear']"
      ]
     },
     "execution_count": 42,
     "metadata": {},
     "output_type": "execute_result"
    }
   ],
   "source": [
    "allN"
   ]
  },
  {
   "cell_type": "code",
   "execution_count": 47,
   "metadata": {},
   "outputs": [
    {
     "ename": "ValueError",
     "evalue": "list.remove(x): x not in list",
     "output_type": "error",
     "traceback": [
      "\u001b[1;31m---------------------------------------------------------------------------\u001b[0m",
      "\u001b[1;31mValueError\u001b[0m                                Traceback (most recent call last)",
      "\u001b[1;32m<ipython-input-47-546895049b07>\u001b[0m in \u001b[0;36m<module>\u001b[1;34m()\u001b[0m\n\u001b[1;32m----> 1\u001b[1;33m \u001b[0mallN\u001b[0m\u001b[1;33m.\u001b[0m\u001b[0mremove\u001b[0m\u001b[1;33m(\u001b[0m\u001b[1;34m\"kiwi\"\u001b[0m\u001b[1;33m)\u001b[0m\u001b[1;33m\u001b[0m\u001b[0m\n\u001b[0m",
      "\u001b[1;31mValueError\u001b[0m: list.remove(x): x not in list"
     ]
    }
   ],
   "source": [
    "allN.remove(\"kiwi\")"
   ]
  },
  {
   "cell_type": "code",
   "execution_count": 48,
   "metadata": {},
   "outputs": [
    {
     "data": {
      "text/plain": [
       "[['a1', 'a2'],\n",
       " ['b1', 'b2', 'b3', 'b4'],\n",
       " 'apple',\n",
       " [3, 'c1', 5],\n",
       " 'bb100',\n",
       " 'apple',\n",
       " 'apple',\n",
       " 'banana',\n",
       " 'banana',\n",
       " 'grape',\n",
       " 'orange',\n",
       " 'pear']"
      ]
     },
     "execution_count": 48,
     "metadata": {},
     "output_type": "execute_result"
    }
   ],
   "source": [
    "allN"
   ]
  },
  {
   "cell_type": "code",
   "execution_count": 49,
   "metadata": {},
   "outputs": [],
   "source": [
    "allN.insert(0,\"abc\")"
   ]
  },
  {
   "cell_type": "code",
   "execution_count": 50,
   "metadata": {},
   "outputs": [
    {
     "data": {
      "text/plain": [
       "['abc',\n",
       " ['a1', 'a2'],\n",
       " ['b1', 'b2', 'b3', 'b4'],\n",
       " 'apple',\n",
       " [3, 'c1', 5],\n",
       " 'bb100',\n",
       " 'apple',\n",
       " 'apple',\n",
       " 'banana',\n",
       " 'banana',\n",
       " 'grape',\n",
       " 'orange',\n",
       " 'pear']"
      ]
     },
     "execution_count": 50,
     "metadata": {},
     "output_type": "execute_result"
    }
   ],
   "source": [
    "allN"
   ]
  },
  {
   "cell_type": "code",
   "execution_count": 51,
   "metadata": {},
   "outputs": [
    {
     "data": {
      "text/plain": [
       "deque(['JOHN', 'MICHAEL', '小寶', '小文', 'TERRY'])"
      ]
     },
     "execution_count": 51,
     "metadata": {},
     "output_type": "execute_result"
    }
   ],
   "source": [
    "queue"
   ]
  },
  {
   "cell_type": "code",
   "execution_count": 53,
   "metadata": {},
   "outputs": [
    {
     "data": {
      "text/plain": [
       "'TERRY'"
      ]
     },
     "execution_count": 53,
     "metadata": {},
     "output_type": "execute_result"
    }
   ],
   "source": [
    "queue.pop()"
   ]
  },
  {
   "cell_type": "code",
   "execution_count": 54,
   "metadata": {},
   "outputs": [
    {
     "data": {
      "text/plain": [
       "deque(['JOHN', 'MICHAEL', '小寶', '小文'])"
      ]
     },
     "execution_count": 54,
     "metadata": {},
     "output_type": "execute_result"
    }
   ],
   "source": [
    "queue"
   ]
  },
  {
   "cell_type": "code",
   "execution_count": 55,
   "metadata": {},
   "outputs": [
    {
     "data": {
      "text/plain": [
       "True"
      ]
     },
     "execution_count": 55,
     "metadata": {},
     "output_type": "execute_result"
    }
   ],
   "source": [
    "\"abc\" in allN"
   ]
  },
  {
   "cell_type": "code",
   "execution_count": 57,
   "metadata": {},
   "outputs": [
    {
     "name": "stdout",
     "output_type": "stream",
     "text": [
      "('a', 'b', 'c', 'd', 'e', 'f', 'g')\n",
      "(2, 4, 6, 8, 10, 12, 14)\n"
     ]
    }
   ],
   "source": [
    "tp=tuple(\"abcdefg\")\n",
    "print(tp)\n",
    "tp1=tuple([2*x for x in range(1,8)])\n",
    "print(tp1)"
   ]
  },
  {
   "cell_type": "code",
   "execution_count": 59,
   "metadata": {},
   "outputs": [
    {
     "data": {
      "text/plain": [
       "[0, 1, 4, 9, 16, 25, 36, 49, 64, 81]"
      ]
     },
     "execution_count": 59,
     "metadata": {},
     "output_type": "execute_result"
    }
   ],
   "source": [
    "xlist=[x**2 for x in range(0,10)]\n",
    "xlist"
   ]
  },
  {
   "cell_type": "code",
   "execution_count": 60,
   "metadata": {},
   "outputs": [],
   "source": [
    "ttuple=tuple(allN)"
   ]
  },
  {
   "cell_type": "code",
   "execution_count": 61,
   "metadata": {},
   "outputs": [
    {
     "data": {
      "text/plain": [
       "('abc',\n",
       " ['a1', 'a2'],\n",
       " ['b1', 'b2', 'b3', 'b4'],\n",
       " 'apple',\n",
       " [3, 'c1', 5],\n",
       " 'bb100',\n",
       " 'apple',\n",
       " 'apple',\n",
       " 'banana',\n",
       " 'banana',\n",
       " 'grape',\n",
       " 'orange',\n",
       " 'pear')"
      ]
     },
     "execution_count": 61,
     "metadata": {},
     "output_type": "execute_result"
    }
   ],
   "source": [
    "ttuple"
   ]
  },
  {
   "cell_type": "code",
   "execution_count": 62,
   "metadata": {},
   "outputs": [
    {
     "name": "stdout",
     "output_type": "stream",
     "text": [
      "{'a': 'AAAAA', 'b': 'BBBBB', 'c': 'CCCCC', 'd': 'DDDDD'}\n"
     ]
    }
   ],
   "source": [
    "dict01={\n",
    "    'a':'AAAAA',\n",
    "    'b':'BBBBB',\n",
    "    'c':'CCCCC',\n",
    "    'd':'DDDDD'\n",
    "}\n",
    "print(dict01)"
   ]
  },
  {
   "cell_type": "code",
   "execution_count": 63,
   "metadata": {},
   "outputs": [],
   "source": [
    "a=dict01[\"a\"]"
   ]
  },
  {
   "cell_type": "code",
   "execution_count": 64,
   "metadata": {},
   "outputs": [
    {
     "data": {
      "text/plain": [
       "'AAAAA'"
      ]
     },
     "execution_count": 64,
     "metadata": {},
     "output_type": "execute_result"
    }
   ],
   "source": [
    "a"
   ]
  },
  {
   "cell_type": "code",
   "execution_count": 65,
   "metadata": {},
   "outputs": [
    {
     "name": "stdout",
     "output_type": "stream",
     "text": [
      "{'x': 'x1', 'b': 'b1', 'c': 'c1', 'z': 'z1'}\n"
     ]
    }
   ],
   "source": [
    "dict06={'x':'a1','b':'b1','c':'c1'}\n",
    "others={'x':'x1','z':'z1'}\n",
    "dict06.update(others)\n",
    "print(dict06)"
   ]
  },
  {
   "cell_type": "code",
   "execution_count": 66,
   "metadata": {},
   "outputs": [
    {
     "ename": "TypeError",
     "evalue": "list indices must be integers or slices, not str",
     "output_type": "error",
     "traceback": [
      "\u001b[1;31m---------------------------------------------------------------------------\u001b[0m",
      "\u001b[1;31mTypeError\u001b[0m                                 Traceback (most recent call last)",
      "\u001b[1;32m<ipython-input-66-2a99033e8f83>\u001b[0m in \u001b[0;36m<module>\u001b[1;34m()\u001b[0m\n\u001b[1;32m----> 1\u001b[1;33m \u001b[1;32mdel\u001b[0m \u001b[0mallN\u001b[0m\u001b[1;33m[\u001b[0m\u001b[1;34m\"abc\"\u001b[0m\u001b[1;33m]\u001b[0m\u001b[1;33m\u001b[0m\u001b[0m\n\u001b[0m",
      "\u001b[1;31mTypeError\u001b[0m: list indices must be integers or slices, not str"
     ]
    }
   ],
   "source": [
    "del allN[\"abc\"]"
   ]
  },
  {
   "cell_type": "code",
   "execution_count": 67,
   "metadata": {},
   "outputs": [
    {
     "data": {
      "text/plain": [
       "['abc',\n",
       " ['a1', 'a2'],\n",
       " ['b1', 'b2', 'b3', 'b4'],\n",
       " 'apple',\n",
       " [3, 'c1', 5],\n",
       " 'bb100',\n",
       " 'apple',\n",
       " 'apple',\n",
       " 'banana',\n",
       " 'banana',\n",
       " 'grape',\n",
       " 'orange',\n",
       " 'pear']"
      ]
     },
     "execution_count": 67,
     "metadata": {},
     "output_type": "execute_result"
    }
   ],
   "source": [
    "allN"
   ]
  },
  {
   "cell_type": "code",
   "execution_count": 68,
   "metadata": {},
   "outputs": [],
   "source": [
    "del allN[0]"
   ]
  },
  {
   "cell_type": "code",
   "execution_count": 69,
   "metadata": {},
   "outputs": [
    {
     "data": {
      "text/plain": [
       "[['a1', 'a2'],\n",
       " ['b1', 'b2', 'b3', 'b4'],\n",
       " 'apple',\n",
       " [3, 'c1', 5],\n",
       " 'bb100',\n",
       " 'apple',\n",
       " 'apple',\n",
       " 'banana',\n",
       " 'banana',\n",
       " 'grape',\n",
       " 'orange',\n",
       " 'pear']"
      ]
     },
     "execution_count": 69,
     "metadata": {},
     "output_type": "execute_result"
    }
   ],
   "source": [
    "allN"
   ]
  },
  {
   "cell_type": "code",
   "execution_count": 70,
   "metadata": {},
   "outputs": [],
   "source": [
    "del dict06[\"x\"]"
   ]
  },
  {
   "cell_type": "code",
   "execution_count": 71,
   "metadata": {},
   "outputs": [
    {
     "data": {
      "text/plain": [
       "{'b': 'b1', 'c': 'c1', 'z': 'z1'}"
      ]
     },
     "execution_count": 71,
     "metadata": {},
     "output_type": "execute_result"
    }
   ],
   "source": [
    "dict06"
   ]
  },
  {
   "cell_type": "code",
   "execution_count": 72,
   "metadata": {},
   "outputs": [
    {
     "data": {
      "text/plain": [
       "dict_keys(['b', 'c', 'z'])"
      ]
     },
     "execution_count": 72,
     "metadata": {},
     "output_type": "execute_result"
    }
   ],
   "source": [
    "dict06.keys()"
   ]
  },
  {
   "cell_type": "code",
   "execution_count": 73,
   "metadata": {},
   "outputs": [
    {
     "data": {
      "text/plain": [
       "dict_values(['b1', 'c1', 'z1'])"
      ]
     },
     "execution_count": 73,
     "metadata": {},
     "output_type": "execute_result"
    }
   ],
   "source": [
    "dict06.values()"
   ]
  },
  {
   "cell_type": "code",
   "execution_count": 74,
   "metadata": {},
   "outputs": [
    {
     "data": {
      "text/plain": [
       "dict_items([('b', 'b1'), ('c', 'c1'), ('z', 'z1')])"
      ]
     },
     "execution_count": 74,
     "metadata": {},
     "output_type": "execute_result"
    }
   ],
   "source": [
    "dict06.items()"
   ]
  },
  {
   "cell_type": "code",
   "execution_count": 75,
   "metadata": {},
   "outputs": [
    {
     "name": "stdout",
     "output_type": "stream",
     "text": [
      "0929837467\n",
      "0929837467\n",
      "{'justin': '0929837467', 'ivy': '0987276342', 'johny': '00956234876'}\n",
      "{'justin': '0929837467', 'ivy': '0987276342'}\n",
      "['justin', 'ivy']\n",
      "dict_keys(['justin', 'ivy'])\n",
      "['ivy', 'justin']\n",
      "True\n",
      "2\n",
      "dict_values(['0929837467', '0987276342'])\n"
     ]
    }
   ],
   "source": [
    "tel={\"justin\":\"0929837467\",\"ivy\":\"0987276342\"}\n",
    "#取得key裏的value\n",
    "print(tel[\"justin\"])\n",
    "print(tel.get(\"justin\"))\n",
    "#增加元素\n",
    "tel[\"johny\"]=\"00956234876\"\n",
    "print(tel)\n",
    "#刪除元素\n",
    "del tel[\"johny\"]\n",
    "print(tel)\n",
    "print(list(tel.keys()))\n",
    "print(tel.keys())\n",
    "print(sorted(tel.keys()))\n",
    "print(\"ivy\" in tel)\n",
    "print(len(tel))\n",
    "print(tel.values())"
   ]
  },
  {
   "cell_type": "code",
   "execution_count": 76,
   "metadata": {},
   "outputs": [],
   "source": [
    "dict06[\"r\"]=\"0987\""
   ]
  },
  {
   "cell_type": "code",
   "execution_count": 77,
   "metadata": {},
   "outputs": [
    {
     "data": {
      "text/plain": [
       "{'b': 'b1', 'c': 'c1', 'z': 'z1', 'r': '0987'}"
      ]
     },
     "execution_count": 77,
     "metadata": {},
     "output_type": "execute_result"
    }
   ],
   "source": [
    "dict06"
   ]
  },
  {
   "cell_type": "code",
   "execution_count": 78,
   "metadata": {},
   "outputs": [],
   "source": [
    "del dict06[\"r\"]"
   ]
  },
  {
   "cell_type": "code",
   "execution_count": 79,
   "metadata": {},
   "outputs": [
    {
     "data": {
      "text/plain": [
       "{'b': 'b1', 'c': 'c1', 'z': 'z1'}"
      ]
     },
     "execution_count": 79,
     "metadata": {},
     "output_type": "execute_result"
    }
   ],
   "source": [
    "dict06"
   ]
  },
  {
   "cell_type": "code",
   "execution_count": 81,
   "metadata": {},
   "outputs": [
    {
     "name": "stdout",
     "output_type": "stream",
     "text": [
      "OK\n"
     ]
    }
   ],
   "source": [
    "aa=True\n",
    "if aa==True:\n",
    "    print(\"OK\")\n",
    "else:\n",
    "    print(\"no\")"
   ]
  },
  {
   "cell_type": "code",
   "execution_count": null,
   "metadata": {},
   "outputs": [],
   "source": [
    "while True:\n",
    "    stuff=input('String to capitalize[type q to quit:]')\n",
    "    if stuff =='q':\n",
    "        break\n",
    "    print(stuff.capitalize())   "
   ]
  },
  {
   "cell_type": "code",
   "execution_count": null,
   "metadata": {},
   "outputs": [],
   "source": []
  }
 ],
 "metadata": {
  "kernelspec": {
   "display_name": "Python 3",
   "language": "python",
   "name": "python3"
  },
  "language_info": {
   "codemirror_mode": {
    "name": "ipython",
    "version": 3
   },
   "file_extension": ".py",
   "mimetype": "text/x-python",
   "name": "python",
   "nbconvert_exporter": "python",
   "pygments_lexer": "ipython3",
   "version": "3.6.5"
  }
 },
 "nbformat": 4,
 "nbformat_minor": 2
}
